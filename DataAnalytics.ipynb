{
  "nbformat": 4,
  "nbformat_minor": 0,
  "metadata": {
    "colab": {
      "provenance": [],
      "authorship_tag": "ABX9TyNxX9VUNth/f+ptHTBVpFQ5",
      "include_colab_link": true
    },
    "kernelspec": {
      "name": "python3",
      "display_name": "Python 3"
    },
    "language_info": {
      "name": "python"
    }
  },
  "cells": [
    {
      "cell_type": "markdown",
      "metadata": {
        "id": "view-in-github",
        "colab_type": "text"
      },
      "source": [
        "<a href=\"https://colab.research.google.com/github/AkshadaDev/Data-Analytics-/blob/main/DataAnalytics.ipynb\" target=\"_parent\"><img src=\"https://colab.research.google.com/assets/colab-badge.svg\" alt=\"Open In Colab\"/></a>"
      ]
    },
    {
      "cell_type": "code",
      "execution_count": 1,
      "metadata": {
        "id": "5uEi8UUB3TVG"
      },
      "outputs": [],
      "source": [
        "import pandas as pd"
      ]
    },
    {
      "cell_type": "code",
      "source": [
        "import mlxtend"
      ],
      "metadata": {
        "id": "mmbWDBW14NXj"
      },
      "execution_count": 3,
      "outputs": []
    },
    {
      "cell_type": "code",
      "source": [
        "from mlxtend.frequent_patterns import apriori, association_rules"
      ],
      "metadata": {
        "id": "sIF1-gc24wKy"
      },
      "execution_count": 5,
      "outputs": []
    },
    {
      "cell_type": "code",
      "source": [
        "data=[['Bread','Milk'],\n",
        "     ['Bread','','beer','diaper','eggs'],\n",
        "     ['Bread','beer','eggs','diaper'],\n",
        "      ['diaper','diaper','beer','eggs'],\n",
        "      ['Bread','diaper','beer','eggs']]"
      ],
      "metadata": {
        "id": "bZZAD4s-5Svt"
      },
      "execution_count": 8,
      "outputs": []
    },
    {
      "cell_type": "code",
      "source": [
        "df=pd.DataFrame(data)\n",
        "print (df)"
      ],
      "metadata": {
        "colab": {
          "base_uri": "https://localhost:8080/"
        },
        "id": "h-IHdZ5A6ZoE",
        "outputId": "95e34bc3-bf4a-418a-b65a-57f2f108d5c8"
      },
      "execution_count": 10,
      "outputs": [
        {
          "output_type": "stream",
          "name": "stdout",
          "text": [
            "        0       1     2       3     4\n",
            "0   Bread    Milk  None    None  None\n",
            "1   Bread          beer  diaper  eggs\n",
            "2   Bread    beer  eggs  diaper  None\n",
            "3  diaper  diaper  beer    eggs  None\n",
            "4   Bread  diaper  beer    eggs  None\n"
          ]
        }
      ]
    },
    {
      "cell_type": "code",
      "source": [
        "from mlxtend.preprocessing import TransactionEncoder"
      ],
      "metadata": {
        "id": "YQxGXa1t6qdY"
      },
      "execution_count": 11,
      "outputs": []
    },
    {
      "cell_type": "code",
      "source": [
        "te=TransactionEncoder()"
      ],
      "metadata": {
        "id": "OfB0L9sQ67zL"
      },
      "execution_count": 12,
      "outputs": []
    },
    {
      "cell_type": "code",
      "source": [
        "te_array=te.fit(data).transform(data)"
      ],
      "metadata": {
        "id": "sTeIkNgy7BtT"
      },
      "execution_count": 13,
      "outputs": []
    },
    {
      "cell_type": "code",
      "source": [
        "df=pd.DataFrame(te_array,columns=te.columns_)\n",
        "print(df)"
      ],
      "metadata": {
        "colab": {
          "base_uri": "https://localhost:8080/"
        },
        "id": "5plhTGM07MAR",
        "outputId": "12abb9ad-d6fd-4c6f-97ba-d19b4c7dd445"
      },
      "execution_count": 19,
      "outputs": [
        {
          "output_type": "stream",
          "name": "stdout",
          "text": [
            "          Bread   Milk   beer  diaper   eggs\n",
            "0  False   True   True  False   False  False\n",
            "1   True   True  False   True    True   True\n",
            "2  False   True  False   True    True   True\n",
            "3  False  False  False   True    True   True\n",
            "4  False   True  False   True    True   True\n"
          ]
        }
      ]
    },
    {
      "cell_type": "code",
      "source": [
        "freq_items=apriori(df,min_support=0.5,use_colnames=True)"
      ],
      "metadata": {
        "id": "EKE0L7Zs8Qt1"
      },
      "execution_count": 20,
      "outputs": []
    },
    {
      "cell_type": "code",
      "source": [
        "print(freq_items)"
      ],
      "metadata": {
        "colab": {
          "base_uri": "https://localhost:8080/"
        },
        "id": "vfAFnDk28g4T",
        "outputId": "d95c55a1-9e63-48e3-f7d2-adeac18d0adf"
      },
      "execution_count": 21,
      "outputs": [
        {
          "output_type": "stream",
          "name": "stdout",
          "text": [
            "    support                     itemsets\n",
            "0       0.8                      (Bread)\n",
            "1       0.8                       (beer)\n",
            "2       0.8                     (diaper)\n",
            "3       0.8                       (eggs)\n",
            "4       0.6                (Bread, beer)\n",
            "5       0.6              (Bread, diaper)\n",
            "6       0.6                (Bread, eggs)\n",
            "7       0.8               (diaper, beer)\n",
            "8       0.8                 (beer, eggs)\n",
            "9       0.8               (diaper, eggs)\n",
            "10      0.6        (Bread, diaper, beer)\n",
            "11      0.6          (Bread, beer, eggs)\n",
            "12      0.6        (Bread, diaper, eggs)\n",
            "13      0.8         (diaper, beer, eggs)\n",
            "14      0.6  (Bread, diaper, beer, eggs)\n"
          ]
        }
      ]
    }
  ]
}